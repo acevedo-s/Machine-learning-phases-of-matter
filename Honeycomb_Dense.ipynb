{
  "nbformat": 4,
  "nbformat_minor": 0,
  "metadata": {
    "colab": {
      "name": "Honeycomb-Dense.ipynb",
      "provenance": [],
      "collapsed_sections": [],
      "include_colab_link": true
    },
    "kernelspec": {
      "name": "python3",
      "display_name": "Python 3"
    }
  },
  "cells": [
    {
      "cell_type": "markdown",
      "metadata": {
        "id": "view-in-github",
        "colab_type": "text"
      },
      "source": [
        "<a href=\"https://colab.research.google.com/github/acevedo-s/Machine-learning-phases-of-matter/blob/master/Honeycomb_Dense.ipynb\" target=\"_parent\"><img src=\"https://colab.research.google.com/assets/colab-badge.svg\" alt=\"Open In Colab\"/></a>"
      ]
    },
    {
      "cell_type": "code",
      "metadata": {
        "id": "SScae0rhoBU1",
        "colab_type": "code",
        "colab": {
          "base_uri": "https://localhost:8080/",
          "height": 141
        },
        "outputId": "65a76fc6-5e59-4367-b0c0-6bdf95e1b0bf"
      },
      "source": [
        "import numpy as np\n",
        "import csv\n",
        "import random\n",
        "import matplotlib.pyplot as plt\n",
        "from google.colab import drive  \n",
        "drive.mount('/content/drive')\n",
        "\n",
        "import keras\n",
        "keras.__version__\n",
        "from keras import models\n",
        "from keras import layers\n",
        "from keras import regularizers\n",
        "from keras import optimizers\n",
        "from keras.utils import to_categorical  \n",
        "from keras.regularizers import l2"
      ],
      "execution_count": null,
      "outputs": [
        {
          "output_type": "stream",
          "text": [
            "Go to this URL in a browser: https://accounts.google.com/o/oauth2/auth?client_id=947318989803-6bn6qk8qdgf4n4g3pfee6491hc0brc4i.apps.googleusercontent.com&redirect_uri=urn%3aietf%3awg%3aoauth%3a2.0%3aoob&response_type=code&scope=email%20https%3a%2f%2fwww.googleapis.com%2fauth%2fdocs.test%20https%3a%2f%2fwww.googleapis.com%2fauth%2fdrive%20https%3a%2f%2fwww.googleapis.com%2fauth%2fdrive.photos.readonly%20https%3a%2f%2fwww.googleapis.com%2fauth%2fpeopleapi.readonly\n",
            "\n",
            "Enter your authorization code:\n",
            "··········\n",
            "Mounted at /content/drive\n"
          ],
          "name": "stdout"
        },
        {
          "output_type": "stream",
          "text": [
            "Using TensorFlow backend.\n"
          ],
          "name": "stderr"
        }
      ]
    },
    {
      "cell_type": "code",
      "metadata": {
        "id": "NBUSi9pCY3Aa",
        "colab_type": "code",
        "colab": {}
      },
      "source": [
        "def loadD(name,datapath,labelflag,Tc,a,trainflag):\n",
        "  print(name) #only for reference\n",
        "  data=[]\n",
        "  with open(datapath, newline='\\n') as csvfile: #read data file\n",
        "    csv_reader = csv.reader(csvfile, delimiter=' ')\n",
        "    for line in csv_reader:\n",
        "      line.remove('') #remove this white space\n",
        "      if (labelflag==0): #if not labeled, i label it.\n",
        "          if (float(line[0])<Tc):\n",
        "            line.insert(0,0)\n",
        "          else:\n",
        "            line.insert(0,1)\n",
        "      data.append(line)\n",
        "\n",
        "  if (trainflag):\n",
        "    window=[] # i remove a window from data with T close to Tc\n",
        "    for x in data[:]:\n",
        "      if (abs(Tc-float(x[1]))<a): # T=data[k][1]\n",
        "        window.append(x)\n",
        "        data.remove(x)\n",
        "  #now data only has data far from Tc\n",
        "  r=0.75 ; l=int(r*len(data))\n",
        "  train_data=data[:l]  #i partition here the hole data set between train data and test data.\n",
        "  random.shuffle(train_data)\n",
        "  test_data=data[l:len(data)]\n",
        "  if (trainflag):\n",
        "    test_data=test_data+window\n",
        "  del(data)\n",
        "\n",
        "  train_labels,train_temperatures,train_data=get_format(train_data) #(validation data will be a fraction of the train data)\n",
        "  test_labels,test_temperatures,test_data=get_format(test_data)\n",
        "\n",
        "  print('lenght of train data: ', len(train_data))\n",
        "  print('lenght of test data: ', len(test_data))\n",
        "\n",
        "  checkflag=1\n",
        "  if trainflag:\n",
        "    if checkflag:\n",
        "      c=0\n",
        "      for T in train_temperatures: # to see if some forbidden temperature is still in the training set.\n",
        "        if(abs(T-Tc)<a):\n",
        "          c+=1\n",
        "      print('checkflag:',c)\n",
        "  return [train_data,train_labels,test_data,test_labels,test_temperatures]\n",
        "###################-----------------\n",
        "def get_format(data):\n",
        "  labels=[]\n",
        "  temperatures=[]\n",
        "  for element in data:\n",
        "    label=element.pop(0) # remove the first element, the label\n",
        "    labels.append(label) # add to label list\n",
        "    TT=element.pop(0)  # remove the second element, the temperature\n",
        "    temperatures.append(TT) # add to temperature list\n",
        "  #numpy arrays of strings, and string to integers\n",
        "  data=np.array(data)\n",
        "  #data=data.reshape(len(data),30,30,1) # uncomment for CNNS\n",
        "  data = data.astype(np.float)\n",
        "  data=(data+1.)/2 # normalization\n",
        "  labels=np.array(labels)\n",
        "  labels=labels.astype(np.int)\n",
        "  temperatures=np.array(temperatures)\n",
        "  temperatures=temperatures.astype(np.float)\n",
        "  return labels,temperatures,data\n",
        "#######################---------------------------\n",
        "\n",
        "def ProbabilityPredictions(model,test_data,test_temperatures):\n",
        "  test_predictions=model.predict(test_data)\n",
        "  prob_T=[]\n",
        "  for j in range(len(test_temperatures)):\n",
        "    prob_T.append([test_temperatures[j],test_predictions[j]])\n",
        "  #print(prob_T[0])\n",
        "  prob_T=sorted(prob_T,key=lambda x: x[0]) # ordered by temperatures\n",
        "  len(prob_T)\n",
        "\n",
        "  #prob_TNP=np.array([])\n",
        "  j=0\n",
        "  epsilon=0.001\n",
        "  j_max=len(prob_T)\n",
        "\n",
        "  while(j+1 < j_max-1): # for the same temperatures i average the results\n",
        "    count=1\n",
        "    while(j+1 < j_max and abs(prob_T[j][0]-prob_T[j+1][0])<epsilon):\n",
        "      count=count+1\n",
        "      x=prob_T.pop(j+1)\n",
        "      prob_T[j][1]=prob_T[j][1]+x[1]\n",
        "      j_max=len(prob_T)\n",
        "    prob_T[j][1]=prob_T[j][1]/float(count)\n",
        "    j=j+1\n",
        "    j_max=len(prob_T)\n",
        "  \n",
        "  print('number of temperatures: ',len(prob_T))\n",
        "  T_list=[];p1_list=[];p2_list=[];check_list=[]\n",
        "  for j in range(len(prob_T)):\n",
        "    T_list.append(prob_T[j][0])\n",
        "    p1_list.append(prob_T[j][1][0])\n",
        "    p2_list.append(prob_T[j][1][1])\n",
        "    #check_list.append(prob_T[j][1][1] +prob_T[j][1][0] )\n",
        "  return [T_list,p1_list,p2_list]\n",
        "\n",
        "########################----------\n",
        "########################----------------------------------------\n",
        "\n",
        "#for fancy plotting\n",
        "plt.rcParams['xtick.labelsize']=18\n",
        "plt.rcParams['ytick.labelsize']=18\n",
        "plt.rcParams['mathtext.fontset'] = 'stix'\n",
        "plt.rcParams['font.family'] = 'STIXGeneral'\n"
      ],
      "execution_count": null,
      "outputs": []
    },
    {
      "cell_type": "code",
      "metadata": {
        "id": "oECrTTpYy-Li",
        "colab_type": "code",
        "colab": {}
      },
      "source": [
        "def makedicy(name,L,path,label,Tc,loadflag,categoricalflag):\n",
        "  mydict={'name': name,'L':L,'path':path,'label':label,'Tc':Tc\\\n",
        "          ,'loadflag':loadflag,'categoricalflag':categoricalflag}\n",
        "  return mydict\n",
        "\n",
        "Dicyslist=[];\n",
        "Tclists=[];Llists=[];\n",
        "\n",
        "#honeycombe lattice\n",
        "Llists.append([30,20,10])\n",
        "Tclists.append([1.519,1.519,1.519])\n",
        "Nhoney=len(Llists[0])\n",
        "\n",
        "k=0\n",
        "name='Honeycombe'+str(Llists[0][k])\n",
        "path='drive/My Drive/Machine Learning magnetism/paper2020/data_honey_AF/900/arrays_'+str(Llists[0][k])+'_-0.00.txt'\n",
        "x=makedicy(name,Llists[0][k],path,0,Tclists[0][k],1,1)\n",
        "Dicyslist.append(x)\n",
        "Nfiles=1\n",
        "\n",
        "for k in range(1,Nhoney):\n",
        "  name='Honeycombe'+str(Llists[0][k])\n",
        "  path='drive/My Drive/Machine Learning magnetism/paper2020/data_honey_AF/arrays_'+str(Llists[0][k])+'_0.0.txt'\n",
        "  x=makedicy(name,Llists[0][k],path,1,Tclists[0][k],1,1)\n",
        "  Dicyslist.append(x)\n",
        "  Nfiles+=1\n",
        "\n"
      ],
      "execution_count": null,
      "outputs": []
    },
    {
      "cell_type": "code",
      "metadata": {
        "id": "Rm_k1goA94cG",
        "colab_type": "code",
        "colab": {
          "base_uri": "https://localhost:8080/",
          "height": 225
        },
        "outputId": "e2fc1050-4f78-4b87-f69a-0d19de887075"
      },
      "source": [
        "#adding data to diccionary  \n",
        "#'data' format is as follows: \n",
        "# train_data,train_labels,test_data,test_labels,test_temperatures\n",
        "a=0.3 # parameter to exclude transition data from training\n",
        "trainflag=1\n",
        "for k in range(Nfiles): # this takes a while\n",
        "  if(Dicyslist[k]['loadflag']):\n",
        "    Dicyslist[k]['data']=loadD(Dicyslist[k]['name'],Dicyslist[k]['path'] \\\n",
        "                            ,Dicyslist[k]['label'],Dicyslist[k]['Tc'],a,trainflag)\n",
        "    Dicyslist[k]['loadflag']=0 # i only read it once. "
      ],
      "execution_count": null,
      "outputs": [
        {
          "output_type": "stream",
          "text": [
            "Honeycombe30\n",
            "lenght of train data:  51900\n",
            "lenght of test data:  28100\n",
            "checkflag: 0\n",
            "Honeycombe20\n",
            "lenght of train data:  51900\n",
            "lenght of test data:  28100\n",
            "checkflag: 0\n",
            "Honeycombe10\n",
            "lenght of train data:  51900\n",
            "lenght of test data:  28100\n",
            "checkflag: 0\n"
          ],
          "name": "stdout"
        }
      ]
    },
    {
      "cell_type": "markdown",
      "metadata": {
        "id": "5W5sxaEcTrI-",
        "colab_type": "text"
      },
      "source": [
        "###Training"
      ]
    },
    {
      "cell_type": "code",
      "metadata": {
        "id": "FSfYIvrVA8dc",
        "colab_type": "code",
        "colab": {}
      },
      "source": [
        "# Keras formatting\n",
        "for k in range(Nfiles): \n",
        "  if (Dicyslist[k]['categoricalflag']):\n",
        "    Dicyslist[k]['data'][1] = to_categorical(Dicyslist[k]['data'][1])\n",
        "    Dicyslist[k]['data'][3] = to_categorical(Dicyslist[k]['data'][3])\n",
        "    Dicyslist[k]['categoricalflag']=0; # because this must be done only one time.\n"
      ],
      "execution_count": null,
      "outputs": []
    },
    {
      "cell_type": "code",
      "metadata": {
        "id": "D59QOtY8qi1w",
        "colab_type": "code",
        "colab": {}
      },
      "source": [
        "def train(Dicyslist,k):\n",
        "  L=Dicyslist[k]['L']\n",
        "  damn=optimizers.Adam(lr=0.0005,beta_1=0.9, beta_2=0.999, amsgrad=False)\n",
        "  model = models.Sequential()\n",
        "  Ndense=16 # number of neurons in the dense hidden layer\n",
        "  model.add(layers.Dense(Ndense, activation='relu', activity_regularizer=l2(0.00005)))\n",
        "  model.add(layers.Dense(2, activation='softmax'))\n",
        "  epochs_val=10\n",
        "  Bsize=128 #\n",
        "  VS=0.1 #validation split\n",
        "\n",
        "  #optimizer='rmsprop'\n",
        "  #metrics=[keras_metrics.precision(), keras_metrics.recall()]\n",
        "  #metrics=['accuracy']\n",
        "  model.compile(optimizer=damn,\n",
        "  loss='categorical_crossentropy',\n",
        "  metrics=['accuracy'])#,keras.metrics.Precision(), keras.metrics.Recall()] )\n",
        "  history=model.fit(Dicyslist[k]['data'][0], Dicyslist[k]['data'][1], validation_split=VS,\n",
        "            shuffle=True, epochs=epochs_val, batch_size=Bsize)\n",
        "  # train_data,train_labels,test_data,test_labels,test_temperatures\n",
        "  history_dict = history.history\n",
        "  return model, history_dict\n",
        "\n",
        "# ###Validation graphs\n",
        "# print('history_dictionary: ', history_dict.keys())\n",
        "# loss_values = history_dict['loss']\n",
        "# val_loss_values = history_dict['val_loss']\n",
        "# epochs = range(1, epochs_val + 1)\n",
        "# #“bo” is for “blue dot.”\n",
        "# plt.plot(epochs, loss_values, 'bo', label='Training loss')\n",
        "# plt.plot(epochs, val_loss_values, 'b', label='Validation loss')\n",
        "# plt.title('Training and validation loss')\n",
        "# #“b” is for “solid blue line.”\n",
        "# plt.xlabel('Epochs')\n",
        "# plt.ylabel('Loss')\n",
        "# plt.legend()\n",
        "# plt.show()\n",
        "# plt.clf()\n",
        "\n",
        "# #plotting accuracies\n",
        "# acc_values=history_dict['accuracy']\n",
        "# val_acc_values=history_dict['val_accuracy']\n",
        "# plt.plot(epochs, acc_values, 'bo', label='Training acc')\n",
        "# plt.plot(epochs, val_acc_values, 'b', label='Validation acc')\n",
        "# plt.title('Training and validation accuracy')\n",
        "# plt.xlabel('Epochs')\n",
        "# plt.ylabel('Accuracy')\n",
        "# plt.legend()\n",
        "# plt.show()"
      ],
      "execution_count": null,
      "outputs": []
    },
    {
      "cell_type": "code",
      "metadata": {
        "id": "DOR13wYPc2ij",
        "colab_type": "code",
        "colab": {
          "base_uri": "https://localhost:8080/",
          "height": 1000
        },
        "outputId": "53950ae6-80b3-4d60-c1dc-80ebf10069af"
      },
      "source": [
        "modellist=[];\n",
        "historylist=[]\n",
        "for k in range(Nfiles):\n",
        "  model,history=train(Dicyslist,k)\n",
        "  modellist.append(model)\n",
        "  historylist.append(history)"
      ],
      "execution_count": null,
      "outputs": [
        {
          "output_type": "stream",
          "text": [
            "Train on 46710 samples, validate on 5190 samples\n",
            "Epoch 1/10\n",
            "46710/46710 [==============================] - 1s 23us/step - loss: 0.1822 - accuracy: 0.9946 - val_loss: 0.1287 - val_accuracy: 1.0000\n",
            "Epoch 2/10\n",
            "46710/46710 [==============================] - 1s 21us/step - loss: 0.1082 - accuracy: 1.0000 - val_loss: 0.0896 - val_accuracy: 1.0000\n",
            "Epoch 3/10\n",
            "46710/46710 [==============================] - 1s 20us/step - loss: 0.0794 - accuracy: 1.0000 - val_loss: 0.0695 - val_accuracy: 1.0000\n",
            "Epoch 4/10\n",
            "46710/46710 [==============================] - 1s 20us/step - loss: 0.0631 - accuracy: 1.0000 - val_loss: 0.0570 - val_accuracy: 1.0000\n",
            "Epoch 5/10\n",
            "46710/46710 [==============================] - 1s 21us/step - loss: 0.0528 - accuracy: 1.0000 - val_loss: 0.0484 - val_accuracy: 1.0000\n",
            "Epoch 6/10\n",
            "46710/46710 [==============================] - 1s 20us/step - loss: 0.0453 - accuracy: 1.0000 - val_loss: 0.0425 - val_accuracy: 1.0000\n",
            "Epoch 7/10\n",
            "46710/46710 [==============================] - 1s 21us/step - loss: 0.0394 - accuracy: 1.0000 - val_loss: 0.0371 - val_accuracy: 1.0000\n",
            "Epoch 8/10\n",
            "46710/46710 [==============================] - 1s 21us/step - loss: 0.0346 - accuracy: 1.0000 - val_loss: 0.0328 - val_accuracy: 1.0000\n",
            "Epoch 9/10\n",
            "46710/46710 [==============================] - 1s 20us/step - loss: 0.0309 - accuracy: 1.0000 - val_loss: 0.0294 - val_accuracy: 1.0000\n",
            "Epoch 10/10\n",
            "46710/46710 [==============================] - 1s 21us/step - loss: 0.0278 - accuracy: 1.0000 - val_loss: 0.0269 - val_accuracy: 1.0000\n",
            "Train on 46710 samples, validate on 5190 samples\n",
            "Epoch 1/10\n",
            "46710/46710 [==============================] - 1s 19us/step - loss: 0.1717 - accuracy: 0.9846 - val_loss: 0.1133 - val_accuracy: 0.9998\n",
            "Epoch 2/10\n",
            "46710/46710 [==============================] - 1s 15us/step - loss: 0.0940 - accuracy: 1.0000 - val_loss: 0.0810 - val_accuracy: 1.0000\n",
            "Epoch 3/10\n",
            "46710/46710 [==============================] - 1s 16us/step - loss: 0.0699 - accuracy: 1.0000 - val_loss: 0.0626 - val_accuracy: 1.0000\n",
            "Epoch 4/10\n",
            "46710/46710 [==============================] - 1s 14us/step - loss: 0.0558 - accuracy: 1.0000 - val_loss: 0.0514 - val_accuracy: 1.0000\n",
            "Epoch 5/10\n",
            "46710/46710 [==============================] - 1s 15us/step - loss: 0.0467 - accuracy: 1.0000 - val_loss: 0.0437 - val_accuracy: 1.0000\n",
            "Epoch 6/10\n",
            "46710/46710 [==============================] - 1s 15us/step - loss: 0.0403 - accuracy: 1.0000 - val_loss: 0.0383 - val_accuracy: 1.0000\n",
            "Epoch 7/10\n",
            "46710/46710 [==============================] - 1s 16us/step - loss: 0.0356 - accuracy: 1.0000 - val_loss: 0.0343 - val_accuracy: 1.0000\n",
            "Epoch 8/10\n",
            "46710/46710 [==============================] - 1s 15us/step - loss: 0.0318 - accuracy: 1.0000 - val_loss: 0.0307 - val_accuracy: 1.0000\n",
            "Epoch 9/10\n",
            "46710/46710 [==============================] - 1s 15us/step - loss: 0.0287 - accuracy: 1.0000 - val_loss: 0.0280 - val_accuracy: 0.9998\n",
            "Epoch 10/10\n",
            "46710/46710 [==============================] - 1s 16us/step - loss: 0.0261 - accuracy: 1.0000 - val_loss: 0.0254 - val_accuracy: 1.0000\n",
            "Train on 46710 samples, validate on 5190 samples\n",
            "Epoch 1/10\n",
            "46710/46710 [==============================] - 1s 14us/step - loss: 0.3234 - accuracy: 0.9489 - val_loss: 0.1815 - val_accuracy: 0.9967\n",
            "Epoch 2/10\n",
            "46710/46710 [==============================] - 0s 10us/step - loss: 0.1440 - accuracy: 0.9967 - val_loss: 0.1154 - val_accuracy: 0.9977\n",
            "Epoch 3/10\n",
            "46710/46710 [==============================] - 1s 11us/step - loss: 0.1004 - accuracy: 0.9978 - val_loss: 0.0861 - val_accuracy: 0.9988\n",
            "Epoch 4/10\n",
            "46710/46710 [==============================] - 1s 11us/step - loss: 0.0780 - accuracy: 0.9984 - val_loss: 0.0689 - val_accuracy: 0.9990\n",
            "Epoch 5/10\n",
            "46710/46710 [==============================] - 1s 11us/step - loss: 0.0643 - accuracy: 0.9986 - val_loss: 0.0581 - val_accuracy: 0.9992\n",
            "Epoch 6/10\n",
            "46710/46710 [==============================] - 1s 11us/step - loss: 0.0552 - accuracy: 0.9987 - val_loss: 0.0506 - val_accuracy: 0.9992\n",
            "Epoch 7/10\n",
            "46710/46710 [==============================] - 0s 11us/step - loss: 0.0487 - accuracy: 0.9989 - val_loss: 0.0452 - val_accuracy: 0.9990\n",
            "Epoch 8/10\n",
            "46710/46710 [==============================] - 0s 11us/step - loss: 0.0437 - accuracy: 0.9988 - val_loss: 0.0412 - val_accuracy: 0.9990\n",
            "Epoch 9/10\n",
            "46710/46710 [==============================] - 1s 11us/step - loss: 0.0397 - accuracy: 0.9989 - val_loss: 0.0370 - val_accuracy: 0.9990\n",
            "Epoch 10/10\n",
            "46710/46710 [==============================] - 0s 11us/step - loss: 0.0362 - accuracy: 0.9989 - val_loss: 0.0344 - val_accuracy: 0.9990\n"
          ],
          "name": "stdout"
        }
      ]
    },
    {
      "cell_type": "code",
      "metadata": {
        "id": "bJBUbNLBzlKh",
        "colab_type": "code",
        "colab": {
          "base_uri": "https://localhost:8080/",
          "height": 358
        },
        "outputId": "89c725fa-7526-4fb5-f7f2-25cb1877e5c9"
      },
      "source": [
        "###predictions:\n",
        "p1_list=[];\n",
        "p2_list=[];\n",
        "k=0\n",
        "for k in range (Nfiles):\n",
        "  T_list,x,y=ProbabilityPredictions(modellist[k],Dicyslist[k]['data'][2],Dicyslist[k]['data'][4])\n",
        "  p1_list.append(x)\n",
        "  p2_list.append(y)\n",
        "\n",
        "#plot honey\n",
        "Tc=Dicyslist[0]['Tc']\n",
        "markers=['s','o','x']\n",
        "colors=plt.rcParams['axes.prop_cycle'].by_key()['color']\n",
        "\n",
        "T_list=[]\n",
        "T=0.022650\n",
        "dT=(4.53-T)/200\n",
        "for i in range (200):\n",
        "  T_list.append(T)\n",
        "  T+=dT\n",
        "\n",
        "fig = plt.figure()\n",
        "ax = fig.add_subplot(111)  \n",
        "from google.colab import files\n",
        "file_name=\"dense_honeycombe_seccion1.pdf\"\n",
        "\n",
        "klist=[2,1,0]\n",
        "for k in klist:\n",
        "  size='N='+str(Dicyslist[k]['L']**2)\n",
        "  plt.plot(T_list, p1_list[k], label=size, c=colors[k],marker=markers[k])#,mfc='none') #\n",
        "  plt.plot(T_list, p2_list[k], c=colors[k],marker=markers[k])#,mfc='none')#, label='')\n",
        "\n",
        "\n",
        "plt.title('Honeycombe lattice (DNN)',size = 15)\n",
        "plt.xlabel(r'$T/J$',size = 15)\n",
        "plt.ylabel('Probabilities',size = 15)\n",
        "plt.legend(loc='center right',prop={'size': 15},framealpha=1)\n",
        "plt.axvline(x=Tc,color='black',linestyle='--')\n",
        "xmaxx=2*Tc+.2\n",
        "plt.hlines(y=0.5,xmin=-0.1,xmax=0.7*xmaxx,color='black',linestyle='--')\n",
        "g1=Tc-a ; g2=Tc+a\n",
        "plt.axvspan(g1, g2, color='gray', alpha=0.3, lw=0) # shaded gray\n",
        "ax.set_xlim(-0.1,xmaxx)\n",
        "plt.savefig(file_name)\n",
        "plt.show()\n"
      ],
      "execution_count": null,
      "outputs": [
        {
          "output_type": "stream",
          "text": [
            "number of temperatures:  200\n",
            "number of temperatures:  200\n",
            "number of temperatures:  200\n"
          ],
          "name": "stdout"
        },
        {
          "output_type": "display_data",
          "data": {
            "image/png": "[encoded data removed]",
            "text/plain": [
              "<Figure size 432x288 with 1 Axes>"
            ]
          },
          "metadata": {
            "tags": [],
            "needs_background": "light"
          }
        }
      ]
    },
    {
      "cell_type": "code",
      "metadata": {
        "id": "fbaPHdaezIe1",
        "colab_type": "code",
        "colab": {
          "base_uri": "https://localhost:8080/",
          "height": 17
        },
        "outputId": "b8568fde-3152-44ef-f227-758a5711cffe"
      },
      "source": [
        "files.download(file_name) "
      ],
      "execution_count": null,
      "outputs": [
        {
          "output_type": "display_data",
          "data": {
            "application/javascript": [
              "\n",
              "    async function download(id, filename, size) {\n",
              "      if (!google.colab.kernel.accessAllowed) {\n",
              "        return;\n",
              "      }\n",
              "      const div = document.createElement('div');\n",
              "      const label = document.createElement('label');\n",
              "      label.textContent = `Downloading \"${filename}\": `;\n",
              "      div.appendChild(label);\n",
              "      const progress = document.createElement('progress');\n",
              "      progress.max = size;\n",
              "      div.appendChild(progress);\n",
              "      document.body.appendChild(div);\n",
              "\n",
              "      const buffers = [];\n",
              "      let downloaded = 0;\n",
              "\n",
              "      const channel = await google.colab.kernel.comms.open(id);\n",
              "      // Send a message to notify the kernel that we're ready.\n",
              "      channel.send({})\n",
              "\n",
              "      for await (const message of channel.messages) {\n",
              "        // Send a message to notify the kernel that we're ready.\n",
              "        channel.send({})\n",
              "        if (message.buffers) {\n",
              "          for (const buffer of message.buffers) {\n",
              "            buffers.push(buffer);\n",
              "            downloaded += buffer.byteLength;\n",
              "            progress.value = downloaded;\n",
              "          }\n",
              "        }\n",
              "      }\n",
              "      const blob = new Blob(buffers, {type: 'application/binary'});\n",
              "      const a = document.createElement('a');\n",
              "      a.href = window.URL.createObjectURL(blob);\n",
              "      a.download = filename;\n",
              "      div.appendChild(a);\n",
              "      a.click();\n",
              "      div.remove();\n",
              "    }\n",
              "  "
            ],
            "text/plain": [
              "<IPython.core.display.Javascript object>"
            ]
          },
          "metadata": {
            "tags": []
          }
        },
        {
          "output_type": "display_data",
          "data": {
            "application/javascript": [
              "download(\"download_0c4942ce-408b-418c-808e-7d3262840ca7\", \"dense_honeycombe_seccion1.pdf\", 28905)"
            ],
            "text/plain": [
              "<IPython.core.display.Javascript object>"
            ]
          },
          "metadata": {
            "tags": []
          }
        }
      ]
    },
    {
      "cell_type": "code",
      "metadata": {
        "id": "A7hFwlnokkqB",
        "colab_type": "code",
        "colab": {}
      },
      "source": [
        ""
      ],
      "execution_count": null,
      "outputs": []
    }
  ]
}