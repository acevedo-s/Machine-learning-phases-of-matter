{
  "nbformat": 4,
  "nbformat_minor": 0,
  "metadata": {
    "colab": {
      "name": "Model-transfer-Honeycomb.ipynb",
      "provenance": [],
      "collapsed_sections": [],
      "include_colab_link": true
    },
    "kernelspec": {
      "name": "python3",
      "display_name": "Python 3"
    }
  },
  "cells": [
    {
      "cell_type": "markdown",
      "metadata": {
        "id": "view-in-github",
        "colab_type": "text"
      },
      "source": [
        "<a href=\"https://colab.research.google.com/github/acevedo-s/Machine-learning-phases-of-matter/blob/master/Model_transfer_Honeycomb.ipynb\" target=\"_parent\"><img src=\"https://colab.research.google.com/assets/colab-badge.svg\" alt=\"Open In Colab\"/></a>"
      ]
    },
    {
      "cell_type": "code",
      "metadata": {
        "id": "SScae0rhoBU1",
        "colab_type": "code",
        "colab": {
          "base_uri": "https://localhost:8080/",
          "height": 141
        },
        "outputId": "b50b9cc1-4527-4850-9d28-f0c928c97116"
      },
      "source": [
        "import numpy as np\n",
        "import csv\n",
        "import random\n",
        "import matplotlib.pyplot as plt\n",
        "from google.colab import drive  \n",
        "drive.mount('/content/drive')\n",
        "\n",
        "import keras\n",
        "keras.__version__\n",
        "from keras import models\n",
        "from keras import layers\n",
        "from keras import regularizers\n",
        "from keras import optimizers\n",
        "from keras.utils import to_categorical  \n",
        "from keras.regularizers import l2"
      ],
      "execution_count": null,
      "outputs": [
        {
          "output_type": "stream",
          "text": [
            "Go to this URL in a browser: https://accounts.google.com/o/oauth2/auth?client_id=947318989803-6bn6qk8qdgf4n4g3pfee6491hc0brc4i.apps.googleusercontent.com&redirect_uri=urn%3aietf%3awg%3aoauth%3a2.0%3aoob&response_type=code&scope=email%20https%3a%2f%2fwww.googleapis.com%2fauth%2fdocs.test%20https%3a%2f%2fwww.googleapis.com%2fauth%2fdrive%20https%3a%2f%2fwww.googleapis.com%2fauth%2fdrive.photos.readonly%20https%3a%2f%2fwww.googleapis.com%2fauth%2fpeopleapi.readonly\n",
            "\n",
            "Enter your authorization code:\n",
            "··········\n",
            "Mounted at /content/drive\n"
          ],
          "name": "stdout"
        },
        {
          "output_type": "stream",
          "text": [
            "Using TensorFlow backend.\n"
          ],
          "name": "stderr"
        }
      ]
    },
    {
      "cell_type": "code",
      "metadata": {
        "id": "NBUSi9pCY3Aa",
        "colab_type": "code",
        "colab": {}
      },
      "source": [
        "def loadD(name,L,datapath,labelflag,Tc,a,windowflag,r):\n",
        "  print(name)\n",
        "  data=[]\n",
        "  with open(datapath, newline='\\n') as csvfile: #read data file\n",
        "    csv_reader = csv.reader(csvfile, delimiter=' ')\n",
        "    for line in csv_reader:\n",
        "      line.remove('') #remove this white space\n",
        "      if (labelflag==0): #if not labeled, i label it.\n",
        "          if (float(line[0])<Tc):\n",
        "            line.insert(0,0)\n",
        "          else:\n",
        "            line.insert(0,1)\n",
        "      data.append(line)\n",
        "\n",
        "  if (windowflag):\n",
        "    window=[] # i remove a window from data with T close to Tc\n",
        "    for x in data[:]:\n",
        "      if (abs(Tc-float(x[1]))<a): # T=data[k][1]\n",
        "        window.append(x)\n",
        "        data.remove(x)\n",
        "  #now data only has data far from Tc\n",
        "  #r=0.8 ;\n",
        "  l=int(r*len(data))\n",
        "  train_data=data[:l]  #i partition here the hole data set between train data and test data.\n",
        "  random.shuffle(train_data)\n",
        "  test_data=data[l:len(data)]\n",
        "  if (windowflag):\n",
        "    test_data=test_data+window\n",
        "  del(data)\n",
        "\n",
        "  train_labels,train_temperatures,train_data=get_format(train_data,L) #(validation data will be a fraction of the train data)\n",
        "  test_labels,test_temperatures,test_data=get_format(test_data,L)\n",
        "\n",
        "  print('lenght of train data: ', len(train_data))\n",
        "  print('lenght of test data: ', len(test_data))\n",
        "\n",
        "  checkflag=1\n",
        "  if windowflag:\n",
        "    if checkflag:\n",
        "      c=0\n",
        "      for T in train_temperatures: # to see if some forbidden temperature is still in the training set.\n",
        "        if(abs(T-Tc)<a):\n",
        "          c+=1\n",
        "      print('checkflag:',c)\n",
        "  return [train_data,train_labels,test_data,test_labels,test_temperatures]\n",
        "###################-----------------\n",
        "def get_format(data,L):\n",
        "  labels=[]\n",
        "  temperatures=[]\n",
        "  for element in data:\n",
        "    label=element.pop(0) # remove the first element, the label\n",
        "    labels.append(label) # add to label list\n",
        "    TT=element.pop(0)  # remove the second element, the temperature\n",
        "    temperatures.append(TT) # add to temperature list\n",
        "  #numpy arrays of strings, and string to integers\n",
        "  data=np.array(data)\n",
        "  #print(np.shape(data))\n",
        "  data=data.reshape(len(data),L,L) #string to matrix\n",
        "  data = data.astype(np.float)\n",
        "  data=(data+1.)/2 # normalization\n",
        "  labels=np.array(labels)\n",
        "  labels=labels.astype(np.int)\n",
        "  temperatures=np.array(temperatures)\n",
        "  temperatures=temperatures.astype(np.float)\n",
        "  return labels,temperatures,data\n",
        "#######################---------------------------\n",
        "\n",
        "def ProbabilityPredictions(model,test_data,test_temperatures):\n",
        "  test_predictions=model.predict(test_data)\n",
        "  prob_T=[]\n",
        "  for j in range(len(test_temperatures)):\n",
        "    prob_T.append([test_temperatures[j],test_predictions[j]])\n",
        "  #print(prob_T[0])\n",
        "  prob_T=sorted(prob_T,key=lambda x: x[0]) # ordered by temperatures \n",
        "  #len(prob_T)\n",
        "\n",
        "  #prob_TNP=np.array([])\n",
        "  j=0\n",
        "  epsilon=0.001\n",
        "  j_max=len(prob_T)\n",
        "\n",
        "  while(j+1 < j_max-1): # for the same temperatures i average the results\n",
        "    count=1\n",
        "    while(j+1 < j_max and abs(prob_T[j][0]-prob_T[j+1][0])<epsilon):\n",
        "      count=count+1\n",
        "      x=prob_T.pop(j+1)\n",
        "      prob_T[j][1]=prob_T[j][1]+x[1]\n",
        "      j_max=len(prob_T)\n",
        "    prob_T[j][1]=prob_T[j][1]/float(count)\n",
        "    j=j+1\n",
        "    j_max=len(prob_T)\n",
        "  \n",
        "  print('number of temperatures: ',len(prob_T))\n",
        "  T_list=[];p1_list=[];p2_list=[];check_list=[]\n",
        "  for j in range(len(prob_T)):\n",
        "    T_list.append(prob_T[j][0])\n",
        "    p1_list.append(prob_T[j][1][0])\n",
        "    p2_list.append(prob_T[j][1][1])\n",
        "    #check_list.append(prob_T[j][1][1] +prob_T[j][1][0] )\n",
        "  return [T_list,p1_list,p2_list]\n",
        "\n",
        "########################----------\n",
        "########################----------------------------------------\n",
        "\n",
        "#for fancy plotting\n",
        "plt.rcParams['xtick.labelsize']=18\n",
        "plt.rcParams['ytick.labelsize']=18\n",
        "plt.rcParams['mathtext.fontset'] = 'stix'\n",
        "plt.rcParams['font.family'] = 'STIXGeneral'\n",
        "plt.rcParams.update({'figure.autolayout': True})\n"
      ],
      "execution_count": null,
      "outputs": []
    },
    {
      "cell_type": "code",
      "metadata": {
        "id": "oECrTTpYy-Li",
        "colab_type": "code",
        "colab": {
          "base_uri": "https://localhost:8080/",
          "height": 34
        },
        "outputId": "5c067c18-db0a-44ad-d712-c3088c8e2749"
      },
      "source": [
        "def makedicy(name,L,J2,path,label,Tc,loadflag,categoricalflag,r):\n",
        "  mydict={'name': name,'L':L,'J2':J2,'path':path,'label':label,'Tc':Tc\\\n",
        "          ,'loadflag':loadflag,'categoricalflag':categoricalflag,'train_ratio':r}\n",
        "  return mydict\n",
        "\n",
        "Dicyslist=[];\n",
        "L=30\n",
        "Nfiles=0\n",
        "# r is de train_data ratio from total data.\n",
        "\n",
        "J2list=[0.0,0.05,0.10,0.15,0.20,0.23,0.25]\n",
        "Tclist=[1.519,1.25,0.98,0.69,0.41,0.32,0]\n",
        "r=0.8\n",
        "for k in range(len(J2list)):\n",
        "  name='Honeycombe '+str(J2list[k])\n",
        "  path='drive/My Drive/Machine Learning magnetism/paper2020/data_honey_AF/900/arrays_'+str(L)+ \\\n",
        "  '_-'+str(\"{:.2f}\".format(J2list[k]))+'.txt'\n",
        "  x=makedicy(name,L,J2list[k],path,0,Tclist[k],1,1,r)\n",
        "  Dicyslist.append(x)\n",
        "  Nfiles+=1\n",
        "  r=0.2\n",
        "\n",
        "print('number of files:',Nfiles)\n",
        "for k in range(Nfiles):\n",
        "  Dicyslist[k]['channelflag']=1\n"
      ],
      "execution_count": null,
      "outputs": [
        {
          "output_type": "stream",
          "text": [
            "number of files: 7\n"
          ],
          "name": "stdout"
        }
      ]
    },
    {
      "cell_type": "code",
      "metadata": {
        "id": "Rm_k1goA94cG",
        "colab_type": "code",
        "colab": {
          "base_uri": "https://localhost:8080/",
          "height": 503
        },
        "outputId": "00ffbd7f-d3f4-4112-e8ef-0f649a61e14c"
      },
      "source": [
        "#adding data to diccionary  \n",
        "#'data' format is as follows: \n",
        "# train_data,train_labels,test_data,test_labels,test_temperatures\n",
        "a=0.3 # parameter to exclude transition data from training\n",
        "windowflag=1\n",
        "for k in range(Nfiles): # this takes a while\n",
        "  if(Dicyslist[k]['loadflag']):\n",
        "    Dicyslist[k]['data']=loadD(Dicyslist[k]['name'],Dicyslist[k]['L'],Dicyslist[k]['path'] \\\n",
        "                            ,Dicyslist[k]['label'],Dicyslist[k]['Tc'],a,windowflag,Dicyslist[k]['train_ratio'])\n",
        "    #windowflag=0 # i only train with honey \n",
        "    Dicyslist[k]['loadflag']=0 "
      ],
      "execution_count": null,
      "outputs": [
        {
          "output_type": "stream",
          "text": [
            "Honeycombe 0.0\n",
            "lenght of train data:  55360\n",
            "lenght of test data:  24640\n",
            "checkflag: 0\n",
            "Honeycombe 0.05\n",
            "lenght of train data:  13840\n",
            "lenght of test data:  66160\n",
            "checkflag: 0\n",
            "Honeycombe 0.1\n",
            "lenght of train data:  13920\n",
            "lenght of test data:  66080\n",
            "checkflag: 0\n",
            "Honeycombe 0.15\n",
            "lenght of train data:  13920\n",
            "lenght of test data:  66080\n",
            "checkflag: 0\n",
            "Honeycombe 0.2\n",
            "lenght of train data:  13840\n",
            "lenght of test data:  66160\n",
            "checkflag: 0\n",
            "Honeycombe 0.23\n",
            "lenght of train data:  13840\n",
            "lenght of test data:  66160\n",
            "checkflag: 0\n",
            "Honeycombe 0.25\n",
            "lenght of train data:  14960\n",
            "lenght of test data:  65040\n",
            "checkflag: 0\n"
          ],
          "name": "stdout"
        }
      ]
    },
    {
      "cell_type": "markdown",
      "metadata": {
        "id": "5W5sxaEcTrI-",
        "colab_type": "text"
      },
      "source": [
        "###Training"
      ]
    },
    {
      "cell_type": "code",
      "metadata": {
        "id": "FSfYIvrVA8dc",
        "colab_type": "code",
        "colab": {}
      },
      "source": [
        "# Keras label formatting\n",
        "for k in range(Nfiles):\n",
        "  if (Dicyslist[k]['categoricalflag']):\n",
        "    Dicyslist[k]['data'][1] = to_categorical(Dicyslist[k]['data'][1])\n",
        "    Dicyslist[k]['data'][3] = to_categorical(Dicyslist[k]['data'][3])\n",
        "    Dicyslist[k]['categoricalflag']=0; # because this must be done only one time.\n",
        "  if (Dicyslist[k]['channelflag']):\n",
        "     Dicyslist[k]['data'][0]=Dicyslist[k]['data'][0][..., np.newaxis] # 1 channel for CNNs \n",
        "     Dicyslist[k]['data'][2]=Dicyslist[k]['data'][2][..., np.newaxis]\n",
        "     Dicyslist[k]['channelflag']=0"
      ],
      "execution_count": null,
      "outputs": []
    },
    {
      "cell_type": "code",
      "metadata": {
        "id": "D59QOtY8qi1w",
        "colab_type": "code",
        "colab": {}
      },
      "source": [
        "def train(Dicyslist,FN,Ndense,Bsize,epochs_val,k):\n",
        "  L=30\n",
        "  damn=optimizers.Adam(lr=0.001,beta_1=0.9, beta_2=0.999, amsgrad=False)\n",
        "  model = models.Sequential()\n",
        "  FS=3 #FiltreSize  3 is standard\n",
        "  model.add(layers.Conv2D(FN, (FS, FS), activation='relu', input_shape=(L, L, 1)))\n",
        "  model.add(layers.AveragePooling2D((2, 2)))\n",
        "  model.add(layers.Conv2D(FN, (FS, FS), activation='relu', input_shape=(L, L, 1)))\n",
        "  model.add(layers.AveragePooling2D((2, 2)))\n",
        "  model.add(layers.Flatten())\n",
        "  model.add(layers.Dense(Ndense, activation='relu'))\n",
        "  model.add(layers.Dense(2, activation='softmax'))\n",
        "  VS=0.1 #validation split\n",
        "  model.compile(optimizer=damn,\n",
        "  loss='categorical_crossentropy',\n",
        "  metrics=['accuracy'])\n",
        "  history=model.fit(Dicyslist[k]['data'][0], Dicyslist[k]['data'][1], validation_split=VS,\n",
        "            shuffle=True, epochs=epochs_val, batch_size=Bsize)\n",
        "  history_dict = history.history\n",
        "  return model,history.history"
      ],
      "execution_count": null,
      "outputs": []
    },
    {
      "cell_type": "markdown",
      "metadata": {
        "id": "iYGg0Vy9Hxv-",
        "colab_type": "text"
      },
      "source": [
        "### Transfers"
      ]
    },
    {
      "cell_type": "code",
      "metadata": {
        "id": "KENl1LHfKVOU",
        "colab_type": "code",
        "colab": {}
      },
      "source": [
        "def predictions_t(predictionflag,Dicyslist,ktrain,FN,Ndense,Bsize,epochs_val,ktransfer,test_acc_val,tlim,eps):\n",
        "  acc=0;\n",
        "  while(acc< test_acc_val):# training \n",
        "    trainedmodel,history_dict=train(Dicyslist,FN,Ndense,Bsize,epochs_val,ktrain)\n",
        "    acc=history_dict['val_accuracy'][-1] # last acc in training\n",
        "  p1_list=[];\n",
        "  p2_list=[];\n",
        "  T_list,x,y=ProbabilityPredictions(trainedmodel,Dicyslist[ktransfer]['data'][2],Dicyslist[ktransfer]['data'][4])\n",
        "  p1_list.append(x)\n",
        "  p2_list.append(y)\n",
        "  p2_list=np.array(p2_list)\n",
        "  \n",
        "  t=min(abs(p2_list[0]-.5))\n",
        "  print('t=',t)\n",
        "  if(t< tlim and (max(p2_list[0])-min(p2_list[0]))> eps):\n",
        "    predictionflag=1\n",
        "  return predictionflag,trainedmodel,p1_list,p2_list"
      ],
      "execution_count": null,
      "outputs": []
    },
    {
      "cell_type": "code",
      "metadata": {
        "id": "7cDuJiK6tsLc",
        "colab_type": "code",
        "colab": {}
      },
      "source": [
        "### Export/Import trained model\n",
        "from keras.models import load_model\n",
        "import h5py\n",
        "#Flags:\n",
        "gustan=0\n",
        "loadmodel=1\n",
        "\n",
        "modelpath='drive/My Drive/Machine Learning magnetism/paper2020/trained_models'\n",
        "modelname=modelpath+'/model_transfer_honeycombe.h5'\n",
        "\n",
        "# if gustan:\n",
        "#   trainedmodel.save(modelname)  # creates a HDF5 file 'my_model.h5'\n",
        "#   #del model  # deletes the existing model\n",
        "\n",
        "if loadmodel:\n",
        "  trainedmodel = load_model(modelname)"
      ],
      "execution_count": null,
      "outputs": []
    },
    {
      "cell_type": "code",
      "metadata": {
        "id": "Kkwg1PJfDPbi",
        "colab_type": "code",
        "colab": {
          "base_uri": "https://localhost:8080/",
          "height": 121
        },
        "outputId": "6bcd3918-7c9c-48c5-ff15-6adb827d43d3"
      },
      "source": [
        "###This cell runs the training \n",
        "trainnff=0# training flag\n",
        "\n",
        "FN=4 #Number of filters\n",
        "Ndense=16 # number of neurons in the dense hidden layer\n",
        "epochs_val=1\n",
        "Bsize=512 #\n",
        "ktrain=0 # training here\n",
        "ktransfer=Nfiles-1 # transfering here \n",
        "test_acc_val=0.85 #minimum acc in validation\n",
        "tlim= 0.47 # distance to probability=0.5\n",
        "eps= 0.02# not constant probability output\n",
        "if (trainnff):\n",
        "  predictionflag=0\n",
        "  count=0\n",
        "  while(predictionflag==0):  \n",
        "    predictionflag,trainedmodel,p1_list,p2_list= \\\n",
        "    predictions_t(predictionflag,Dicyslist,ktrain,FN,Ndense,Bsize,epochs_val,ktransfer,test_acc_val,tlim,eps)\n",
        "    count+=1\n",
        "  print('this took ',count,' tries')"
      ],
      "execution_count": null,
      "outputs": [
        {
          "output_type": "stream",
          "text": [
            "Train on 49824 samples, validate on 5536 samples\n",
            "Epoch 1/1\n",
            "49824/49824 [==============================] - 13s 260us/step - loss: 0.2901 - accuracy: 0.9112 - val_loss: 0.0040 - val_accuracy: 1.0000\n",
            "number of temperatures:  200\n",
            "t= 0.44868767\n",
            "this took  1  tries\n"
          ],
          "name": "stdout"
        }
      ]
    },
    {
      "cell_type": "code",
      "metadata": {
        "id": "Cx_HU4Ssm25L",
        "colab_type": "code",
        "colab": {
          "base_uri": "https://localhost:8080/",
          "height": 139
        },
        "outputId": "9bc811bc-5ca3-45f9-cd6c-e8cec89a5ec9"
      },
      "source": [
        "###predictions:\n",
        "p1_list=[];\n",
        "p2_list=[];\n",
        "Nplot=Nfiles\n",
        "for k in range(Nplot):\n",
        "  T_list,x,y=ProbabilityPredictions(trainedmodel,Dicyslist[k]['data'][2],Dicyslist[k]['data'][4])\n",
        "  p1_list.append(x)\n",
        "  p2_list.append(y)"
      ],
      "execution_count": null,
      "outputs": [
        {
          "output_type": "stream",
          "text": [
            "number of temperatures:  200\n",
            "number of temperatures:  200\n",
            "number of temperatures:  200\n",
            "number of temperatures:  200\n",
            "number of temperatures:  200\n",
            "number of temperatures:  200\n",
            "number of temperatures:  200\n"
          ],
          "name": "stdout"
        }
      ]
    },
    {
      "cell_type": "code",
      "metadata": {
        "id": "JdPlER_QrzBr",
        "colab_type": "code",
        "colab": {
          "base_uri": "https://localhost:8080/",
          "height": 297
        },
        "outputId": "b31c579f-50d7-4a39-8246-d6f22f295ec0"
      },
      "source": [
        "colors=plt.rcParams['axes.prop_cycle'].by_key()['color']\n",
        "markers=['s','o','v','x','p','>','^']\n",
        "fig = plt.figure() \n",
        "ax = fig.add_subplot(111)\n",
        "from google.colab import files\n",
        "file_name=\"Model_Transfer_Honeycombe_J2_Neel.pdf\"\n",
        "\n",
        "T_list=[]\n",
        "T=0.022650\n",
        "dT=(4.53-T)/200\n",
        "for i in range (200):\n",
        "  T_list.append(T)\n",
        "  T+=dT\n",
        "\n",
        "for k in range(Nfiles):\n",
        "  plt.plot(T_list, p1_list[k], label=r'$J_2=$'+ str(Dicyslist[k]['J2']), c=colors[k],marker=markers[k])#,mfc='none') #\n",
        "  plt.plot(T_list, p2_list[k], c=colors[k],marker=markers[k])#,mfc='none')#, label='')\n",
        "  if (k <Nfiles-1):\n",
        "    plt.axvline(x=Dicyslist[k]['Tc'],c=colors[k],linestyle='--')\n",
        "\n",
        "xmaxx=2.8\n",
        "plt.title(' Model transfer - Honeycomb Lattice (CNN)',size = 15)\n",
        "plt.xlabel(r'$T/J$',size = 15)\n",
        "plt.ylabel('Probabilities',size = 15)\n",
        "plt.legend(loc='center right',prop={'size': 15},framealpha=1)\n",
        "plt.hlines(y=0.5,xmin=-0.1,xmax=0.7*xmaxx,color='black',linestyle='--')\n",
        "g1=Tclist[0]-a ; g2=Tclist[0]+a\n",
        "plt.axvspan(g1, g2, color='gray', alpha=0.3, lw=0) # shaded gray\n",
        "\n",
        "# box = ax.get_position()\n",
        "# ax.set_position([box.x0, box.y0, box.width * .9, box.height])\n",
        "# # Put a legend to the right of the current axis\n",
        "# ax.legend(loc='center left', bbox_to_anchor=(1, .8))\n",
        "ax.set_xlim(-0.1,xmaxx)\n",
        "#ax.set_ylim(0.499,1.005)\n",
        "plt.savefig(file_name, bbox_inches=\"tight\")\n",
        "plt.show()"
      ],
      "execution_count": null,
      "outputs": [
        {
          "output_type": "display_data",
          "data": {
            "image/png": "[encoded data removed]",
            "text/plain": [
              "<Figure size 432x288 with 1 Axes>"
            ]
          },
          "metadata": {
            "tags": [],
            "needs_background": "light"
          }
        }
      ]
    },
    {
      "cell_type": "code",
      "metadata": {
        "id": "mijycDzo3O_z",
        "colab_type": "code",
        "colab": {
          "base_uri": "https://localhost:8080/",
          "height": 17
        },
        "outputId": "1524ef27-0589-4540-cff7-d887406c9ea9"
      },
      "source": [
        "files.download(file_name) "
      ],
      "execution_count": null,
      "outputs": [
        {
          "output_type": "display_data",
          "data": {
            "application/javascript": [
              "\n",
              "    async function download(id, filename, size) {\n",
              "      if (!google.colab.kernel.accessAllowed) {\n",
              "        return;\n",
              "      }\n",
              "      const div = document.createElement('div');\n",
              "      const label = document.createElement('label');\n",
              "      label.textContent = `Downloading \"${filename}\": `;\n",
              "      div.appendChild(label);\n",
              "      const progress = document.createElement('progress');\n",
              "      progress.max = size;\n",
              "      div.appendChild(progress);\n",
              "      document.body.appendChild(div);\n",
              "\n",
              "      const buffers = [];\n",
              "      let downloaded = 0;\n",
              "\n",
              "      const channel = await google.colab.kernel.comms.open(id);\n",
              "      // Send a message to notify the kernel that we're ready.\n",
              "      channel.send({})\n",
              "\n",
              "      for await (const message of channel.messages) {\n",
              "        // Send a message to notify the kernel that we're ready.\n",
              "        channel.send({})\n",
              "        if (message.buffers) {\n",
              "          for (const buffer of message.buffers) {\n",
              "            buffers.push(buffer);\n",
              "            downloaded += buffer.byteLength;\n",
              "            progress.value = downloaded;\n",
              "          }\n",
              "        }\n",
              "      }\n",
              "      const blob = new Blob(buffers, {type: 'application/binary'});\n",
              "      const a = document.createElement('a');\n",
              "      a.href = window.URL.createObjectURL(blob);\n",
              "      a.download = filename;\n",
              "      div.appendChild(a);\n",
              "      a.click();\n",
              "      div.remove();\n",
              "    }\n",
              "  "
            ],
            "text/plain": [
              "<IPython.core.display.Javascript object>"
            ]
          },
          "metadata": {
            "tags": []
          }
        },
        {
          "output_type": "display_data",
          "data": {
            "application/javascript": [
              "download(\"download_45b6d076-be90-445e-9ac0-58fb53e41f01\", \"Model_Transfer_Honeycombe_J2_Neel.pdf\", 37644)"
            ],
            "text/plain": [
              "<IPython.core.display.Javascript object>"
            ]
          },
          "metadata": {
            "tags": []
          }
        }
      ]
    },
    {
      "cell_type": "code",
      "metadata": {
        "id": "5HZ7wkxfo9ti",
        "colab_type": "code",
        "colab": {
          "base_uri": "https://localhost:8080/",
          "height": 399
        },
        "outputId": "5b2b5030-7935-4abd-e211-7f214cca1ae9"
      },
      "source": [
        "trainedmodel.summary()"
      ],
      "execution_count": null,
      "outputs": [
        {
          "output_type": "stream",
          "text": [
            "Model: \"sequential_17\"\n",
            "_________________________________________________________________\n",
            "Layer (type)                 Output Shape              Param #   \n",
            "=================================================================\n",
            "conv2d_33 (Conv2D)           (None, 28, 28, 4)         40        \n",
            "_________________________________________________________________\n",
            "average_pooling2d_33 (Averag (None, 14, 14, 4)         0         \n",
            "_________________________________________________________________\n",
            "conv2d_34 (Conv2D)           (None, 12, 12, 4)         148       \n",
            "_________________________________________________________________\n",
            "average_pooling2d_34 (Averag (None, 6, 6, 4)           0         \n",
            "_________________________________________________________________\n",
            "flatten_17 (Flatten)         (None, 144)               0         \n",
            "_________________________________________________________________\n",
            "dense_33 (Dense)             (None, 16)                2320      \n",
            "_________________________________________________________________\n",
            "dense_34 (Dense)             (None, 2)                 34        \n",
            "=================================================================\n",
            "Total params: 2,542\n",
            "Trainable params: 2,542\n",
            "Non-trainable params: 0\n",
            "_________________________________________________________________\n"
          ],
          "name": "stdout"
        }
      ]
    },
    {
      "cell_type": "code",
      "metadata": {
        "id": "EXFvRxyFjWfD",
        "colab_type": "code",
        "colab": {
          "base_uri": "https://localhost:8080/",
          "height": 311
        },
        "outputId": "35b0ea07-641f-48b5-871c-dd3b5d65e207"
      },
      "source": [
        "def Nderiv(P_list,T_list):\n",
        "  deriv=[]\n",
        "  for i in range(2,len(P_list)-2):\n",
        "    x=P_list[i-2]-8*P_list[i-1]+8*P_list[i+1]-P_list[i+2]\n",
        "    x=x/(T_list[i+1]-T_list[i])/12\n",
        "    deriv.append(x)\n",
        "  return np.array(deriv)\n",
        "\n",
        "DP_list=[]\n",
        "for k in range(Nfiles):\n",
        "  DP_list.append(Nderiv(p2_list[k],T_list))\n",
        "\n",
        "colors=plt.rcParams['axes.prop_cycle'].by_key()['color']\n",
        "fig = plt.figure() # crea la figura fig, sin nada, que puede tener muchas subfiguras.\n",
        "ax = fig.add_subplot(111) # creo la subfigura  de 1x1 (cuadrada), numero 1. \n",
        "from google.colab import files\n",
        "file_name=\"Model_Transfer_Honeycombe_J2_Neel_D.pdf\"\n",
        "T_list=[]\n",
        "T=0.022650\n",
        "dT=(4.53-T)/200\n",
        "for i in range (200):\n",
        "  T_list.append(T)\n",
        "  T+=dT\n",
        "\n",
        "for k in range(Nfiles):\n",
        "  plt.plot(T_list[2:-2], DP_list[k], label=Dicyslist[k]['name'], c=colors[k],marker='x')#,mfc='none') #\n",
        "  plt.axvline(x=Dicyslist[k]['Tc'],c=colors[k],linestyle='--')\n",
        "\n",
        "plt.title(' Model transfer',size = 15)\n",
        "plt.xlabel(r'$T/J$',size = 15)\n",
        "plt.ylabel('Probabilities',size = 15)\n",
        "#plt.legend(loc='center right',prop={'size': 15})\n",
        "xmaxx=2\n",
        "g1=Tclist[0]-a ; g2=Tclist[0]+a\n",
        "plt.axvspan(g1, g2, color='gray', alpha=0.3, lw=0) # shaded gray\n",
        "box = ax.get_position()\n",
        "ax.set_position([box.x0, box.y0, box.width * .9, box.height])\n",
        "# Put a legend to the right of the current axis\n",
        "ax.legend(loc='center left', bbox_to_anchor=(1, .8),prop={'size': 15})\n",
        "ax.set_xlim(-0.1,xmaxx)\n",
        "#ax.set_ylim(0.499,1.005)\n",
        "plt.savefig(file_name, bbox_inches=\"tight\")\n",
        "plt.show()\n",
        "\n",
        "\n",
        "\n"
      ],
      "execution_count": null,
      "outputs": [
        {
          "output_type": "display_data",
          "data": {
            "image/png": "[encoded data removed]",
            "text/plain": [
              "<Figure size 432x288 with 1 Axes>"
            ]
          },
          "metadata": {
            "tags": [],
            "needs_background": "light"
          }
        }
      ]
    },
    {
      "cell_type": "code",
      "metadata": {
        "id": "QMrrc5m-9RI1",
        "colab_type": "code",
        "colab": {
          "base_uri": "https://localhost:8080/",
          "height": 17
        },
        "outputId": "824e9d28-01c4-4959-cb0e-b0061f8a4556"
      },
      "source": [
        "files.download(file_name) "
      ],
      "execution_count": null,
      "outputs": [
        {
          "output_type": "display_data",
          "data": {
            "application/javascript": [
              "\n",
              "    async function download(id, filename, size) {\n",
              "      if (!google.colab.kernel.accessAllowed) {\n",
              "        return;\n",
              "      }\n",
              "      const div = document.createElement('div');\n",
              "      const label = document.createElement('label');\n",
              "      label.textContent = `Downloading \"${filename}\": `;\n",
              "      div.appendChild(label);\n",
              "      const progress = document.createElement('progress');\n",
              "      progress.max = size;\n",
              "      div.appendChild(progress);\n",
              "      document.body.appendChild(div);\n",
              "\n",
              "      const buffers = [];\n",
              "      let downloaded = 0;\n",
              "\n",
              "      const channel = await google.colab.kernel.comms.open(id);\n",
              "      // Send a message to notify the kernel that we're ready.\n",
              "      channel.send({})\n",
              "\n",
              "      for await (const message of channel.messages) {\n",
              "        // Send a message to notify the kernel that we're ready.\n",
              "        channel.send({})\n",
              "        if (message.buffers) {\n",
              "          for (const buffer of message.buffers) {\n",
              "            buffers.push(buffer);\n",
              "            downloaded += buffer.byteLength;\n",
              "            progress.value = downloaded;\n",
              "          }\n",
              "        }\n",
              "      }\n",
              "      const blob = new Blob(buffers, {type: 'application/binary'});\n",
              "      const a = document.createElement('a');\n",
              "      a.href = window.URL.createObjectURL(blob);\n",
              "      a.download = filename;\n",
              "      div.appendChild(a);\n",
              "      a.click();\n",
              "      div.remove();\n",
              "    }\n",
              "  "
            ],
            "text/plain": [
              "<IPython.core.display.Javascript object>"
            ]
          },
          "metadata": {
            "tags": []
          }
        },
        {
          "output_type": "display_data",
          "data": {
            "application/javascript": [
              "download(\"download_c63f9114-b191-46b8-83e9-1497d4232a71\", \"Model_Transfer_Honeycombe_J2_Neel_D.pdf\", 27016)"
            ],
            "text/plain": [
              "<IPython.core.display.Javascript object>"
            ]
          },
          "metadata": {
            "tags": []
          }
        }
      ]
    },
    {
      "cell_type": "code",
      "metadata": {
        "id": "rTYfw9lGf_rp",
        "colab_type": "code",
        "colab": {}
      },
      "source": [
        ""
      ],
      "execution_count": null,
      "outputs": []
    }
  ]
}