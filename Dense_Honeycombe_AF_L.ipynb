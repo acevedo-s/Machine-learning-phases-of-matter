{
  "nbformat": 4,
  "nbformat_minor": 0,
  "metadata": {
    "colab": {
      "name": "Honeycombe-AF-L.ipynb",
      "provenance": [],
      "collapsed_sections": [],
      "include_colab_link": true
    },
    "kernelspec": {
      "name": "python3",
      "display_name": "Python 3"
    }
  },
  "cells": [
    {
      "cell_type": "markdown",
      "metadata": {
        "id": "view-in-github",
        "colab_type": "text"
      },
      "source": [
        "<a href=\"https://colab.research.google.com/github/acevedo-s/Machine-learning-phases-of-matter/blob/master/Dense_Honeycombe_AF_L.ipynb\" target=\"_parent\"><img src=\"https://colab.research.google.com/assets/colab-badge.svg\" alt=\"Open In Colab\"/></a>"
      ]
    },
    {
      "cell_type": "code",
      "metadata": {
        "id": "SScae0rhoBU1",
        "colab_type": "code",
        "colab": {
          "base_uri": "https://localhost:8080/",
          "height": 34
        },
        "outputId": "6b4e0e75-c524-471e-f5b0-61e000a73cd6"
      },
      "source": [
        "import numpy as np\n",
        "import csv\n",
        "import random\n",
        "import matplotlib.pyplot as plt\n",
        "from google.colab import drive  \n",
        "drive.mount('/content/drive')\n",
        "\n",
        "import keras\n",
        "keras.__version__\n",
        "from keras import models\n",
        "from keras import layers\n",
        "from keras import regularizers\n",
        "from keras import optimizers\n",
        "from keras.utils import to_categorical  \n",
        "\n",
        "#for fancy plotting\n",
        "plt.rcParams['xtick.labelsize']=18\n",
        "plt.rcParams['ytick.labelsize']=18\n",
        "plt.rcParams['mathtext.fontset'] = 'stix'\n",
        "plt.rcParams['font.family'] = 'STIXGeneral'"
      ],
      "execution_count": 13,
      "outputs": [
        {
          "output_type": "stream",
          "text": [
            "Drive already mounted at /content/drive; to attempt to forcibly remount, call drive.mount(\"/content/drive\", force_remount=True).\n"
          ],
          "name": "stdout"
        }
      ]
    },
    {
      "cell_type": "code",
      "metadata": {
        "id": "NBUSi9pCY3Aa",
        "colab_type": "code",
        "colab": {}
      },
      "source": [
        "def loadD(name,datapath,label,Tc,Ntrain,Ndata,a,trainflag):\n",
        "  #if i want to use only Ndata simulations instead of the total number of simulations i can use Ndata\n",
        "  print(name)\n",
        "  data=[]\n",
        "  with open(datapath, newline='\\n') as csvfile: #read data file\n",
        "    csv_reader = csv.reader(csvfile, delimiter=' ')\n",
        "    for line in csv_reader:\n",
        "      data.append(line)\n",
        "  \n",
        "  if(label):\n",
        "    for x in data: # if the data is labeled, i only remove this white space for formatting. \n",
        "      x.remove('')\n",
        "  else: # if the data is not labeled, i label it by using the critical temperature\n",
        "    for x in data:\n",
        "      if (float(x[0])<Tc):\n",
        "        x.insert(0,0)\n",
        "      else:\n",
        "        x.insert(0,1)\n",
        "      x.remove('') #remove this white space for formatting. \n",
        "  \n",
        "  if(trainflag):\n",
        "    for k in range(Ndata):\n",
        "      if (abs(Tc- float(data[k][1]))<a): # T=data[k][1]\n",
        "        x=data.pop(k)\n",
        "        data.append(x) # lo mando al final\n",
        "    \n",
        "    B = data[:Ntrain]\n",
        "    random.shuffle(B) \n",
        "    C = data[Ntrain:]\n",
        "    random.shuffle(C)\n",
        "    data=B+C\n",
        "    del(B);del(C)\n",
        "\n",
        "  labels=[]\n",
        "  temperatures=[]\n",
        "  for element in data:\n",
        "    label=element.pop(0) # remove the first element, the label\n",
        "    labels.append(label) # add to label list\n",
        "    TT=element.pop(0)  # remove the second element, the temperature\n",
        "    temperatures.append(TT) # add to temperature list\n",
        "  print(\"lenght data: \",len(data))\n",
        "  #numpy arrays of strings, and string to integers\n",
        "  data=np.array(data)\n",
        "  #data=data.reshape(len(data),30,30,1) #tenemos tiritas de 30*30 elem pero queremos una matriz\n",
        "  data = data.astype(np.float)\n",
        "  data=(data+1.)/2 # normalization\n",
        "  labels=np.array(labels)\n",
        "  labels=labels.astype(np.int)\n",
        "\n",
        "  temperatures=np.array(temperatures)\n",
        "  temperatures=temperatures.astype(np.float)\n",
        "  train_data=data[:Ntrain]  #i partition here the hole data set between train data and test data.\n",
        "  train_labels=labels[:Ntrain] #(validation data will be a fraction of the train data)\n",
        "  print('lenght of train data: ', len(train_data))\n",
        "\n",
        "  test_data=data[Ntrain:Ndata]\n",
        "  test_labels=labels[Ntrain:Ndata]\n",
        "  test_temperatures=temperatures[Ntrain:Ndata]\n",
        "  print('lenght of test data: ', len(test_data))\n",
        "  return [train_data,train_labels,test_data,test_labels,test_temperatures]\n",
        "###################-----------------\n",
        "\n",
        "def ProbabilityPredictions(model,test_data,test_temperatures):\n",
        "  test_predictions=model.predict(test_data)\n",
        "  prob_T=[]\n",
        "  for j in range(len(test_temperatures)):\n",
        "    prob_T.append([test_temperatures[j],test_predictions[j]])\n",
        "  #print(prob_T[0])\n",
        "  prob_T=sorted(prob_T,key=lambda x: x[0]) # ordeno por temperaturas\n",
        "  len(prob_T)\n",
        "\n",
        "  #prob_TNP=np.array([])\n",
        "  j=0\n",
        "  epsilon=0.001\n",
        "  j_max=len(prob_T)\n",
        "\n",
        "  while(j+1 < j_max-1): # para las mismas temperaturas, promedio los resultados\n",
        "    count=1\n",
        "    while(j+1 < j_max and abs(prob_T[j][0]-prob_T[j+1][0]  )<epsilon):\n",
        "      count=count+1\n",
        "      x=prob_T.pop(j+1)\n",
        "      prob_T[j][1]=prob_T[j][1]+x[1]\n",
        "      j_max=len(prob_T)\n",
        "    prob_T[j][1]=prob_T[j][1]/float(count)\n",
        "    j=j+1\n",
        "    j_max=len(prob_T)\n",
        "  \n",
        "  print('number of temperatures: ',len(prob_T))\n",
        "  T_list=[];p1_list=[];p2_list=[];check_list=[]\n",
        "  for j in range(len(prob_T)):\n",
        "    T_list.append(prob_T[j][0])\n",
        "    p1_list.append(prob_T[j][1][0])\n",
        "    p2_list.append(prob_T[j][1][1])\n",
        "    #check_list.append(prob_T[j][1][1] +prob_T[j][1][0] )\n",
        "  return [T_list,p1_list,p2_list]\n",
        "\n",
        "########################----------------------------------------\n",
        "\n"
      ],
      "execution_count": null,
      "outputs": []
    },
    {
      "cell_type": "code",
      "metadata": {
        "id": "oECrTTpYy-Li",
        "colab_type": "code",
        "colab": {}
      },
      "source": [
        "def makedicy(name,L,path,label,Tc,Ntrain,Ndat,loadflag,categoricalflag):\n",
        "  mydict={'name': name,'L':L,'path':path,'label':label,'Tc':Tc,'Ntrain':Ntrain, \\\n",
        "          'Ndat':Ndat,'loadflag':loadflag,'categoricalflag':categoricalflag}\n",
        "  return mydict\n",
        "\n",
        "Dicyslist=[];\n",
        "Tclists=[];Ntrainlists=[];Ndatalists=[];Llists=[];\n",
        "\n",
        "#honeycombe lattice\n",
        "Llists.append([30,20,10])\n",
        "Tclists.append([1.519,1.519,1.519])\n",
        "Ntrainlists.append([70000,70000,70000]);\n",
        "Ndatalists.append([80000,80000,80000]);\n",
        "Nhoney=len(Llists[0])\n",
        "\n",
        "k=0\n",
        "name='Honeycombe'+str(Llists[0][k])\n",
        "path='drive/My Drive/ML/Ines/data_honey_AF/900/arrays0.0.txt'\n",
        "x=makedicy(name,Llists[0][k],path,1,Tclists[0][k],Ntrainlists[0][k],Ndatalists[0][k],1,1)\n",
        "Dicyslist.append(x)\n",
        "\n",
        "for k in range(1,Nhoney):\n",
        "  name='Honeycombe'+str(Llists[0][k])\n",
        "  path='drive/My Drive/ML/Ines/data_honey_AF/arrays_'+str(Llists[0][k])+'_0.0.txt'\n",
        "  x=makedicy(name,Llists[0][k],path,1,Tclists[0][k],Ntrainlists[0][k],Ndatalists[0][k],1,1)\n",
        "  Dicyslist.append(x)\n",
        "Nfiles=Nhoney\n",
        "\n"
      ],
      "execution_count": null,
      "outputs": []
    },
    {
      "cell_type": "code",
      "metadata": {
        "id": "Rm_k1goA94cG",
        "colab_type": "code",
        "colab": {
          "base_uri": "https://localhost:8080/",
          "height": 225
        },
        "outputId": "c7206a47-3dc0-4d3c-a139-ec659110b3b7"
      },
      "source": [
        "#agrego la data al diccionario \n",
        "#el formato de data es \n",
        "# train_data,train_labels,test_data,test_labels,test_temperatures\n",
        "a=0.3\n",
        "trainflag=1\n",
        "for k in range(Nfiles): # this takes a while\n",
        "  if(Dicyslist[k]['loadflag']):\n",
        "    Dicyslist[k]['data']=loadD(Dicyslist[k]['name'],Dicyslist[k]['path'] \\\n",
        "                            ,Dicyslist[k]['label'],Dicyslist[k]['Tc'],Dicyslist[k]['Ntrain'],Dicyslist[k]['Ndat']\\\n",
        "                            ,a,trainflag)\n",
        "    Dicyslist[k]['loadflag']=0 #lo lei, entonces cambio el flag para no volver a leerlo.\n",
        "\n"
      ],
      "execution_count": null,
      "outputs": [
        {
          "output_type": "stream",
          "text": [
            "Honeycombe30\n",
            "lenght data:  80000\n",
            "lenght of train data:  70000\n",
            "lenght of test data:  10000\n",
            "Honeycombe20\n",
            "lenght data:  80000\n",
            "lenght of train data:  70000\n",
            "lenght of test data:  10000\n",
            "Honeycombe10\n",
            "lenght data:  80000\n",
            "lenght of train data:  70000\n",
            "lenght of test data:  10000\n"
          ],
          "name": "stdout"
        }
      ]
    },
    {
      "cell_type": "markdown",
      "metadata": {
        "id": "5W5sxaEcTrI-",
        "colab_type": "text"
      },
      "source": [
        "###Training"
      ]
    },
    {
      "cell_type": "code",
      "metadata": {
        "id": "FSfYIvrVA8dc",
        "colab_type": "code",
        "colab": {}
      },
      "source": [
        "for k in range(Nfiles):\n",
        "  if (Dicyslist[k]['categoricalflag']):\n",
        "    Dicyslist[k]['data'][1] = to_categorical(Dicyslist[k]['data'][1])\n",
        "    Dicyslist[k]['data'][3] = to_categorical(Dicyslist[k]['data'][3])\n",
        "    Dicyslist[k]['categoricalflag']=0; # because this shit must be done only one time.\n"
      ],
      "execution_count": null,
      "outputs": []
    },
    {
      "cell_type": "code",
      "metadata": {
        "id": "D59QOtY8qi1w",
        "colab_type": "code",
        "colab": {}
      },
      "source": [
        "from keras.regularizers import l2\n",
        "\n",
        "def train(Dicyslist,k):\n",
        "  L=Dicyslist[k]['L']\n",
        "  damn=optimizers.Adam(lr=0.001,beta_1=0.9, beta_2=0.999, amsgrad=False)\n",
        "  model = models.Sequential()\n",
        "  Ndense=16 # number of neurons in the dense hidden layer\n",
        "  model.add(layers.Dense(Ndense, activation='relu'))#, activity_regularizer=l2(0.0001)))\n",
        "  model.add(layers.Dense(2, activation='softmax'))\n",
        "\n",
        "  epochs_val=3\n",
        "  Bsize=256 #\n",
        "  VS=0.1 #validation split\n",
        "\n",
        "  #optimizer='rmsprop'\n",
        "  #metrics=[keras_metrics.precision(), keras_metrics.recall()]\n",
        "  #metrics=['accuracy']\n",
        "  model.compile(optimizer=damn,\n",
        "  loss='categorical_crossentropy',\n",
        "  metrics=['accuracy'])#,keras.metrics.Precision(), keras.metrics.Recall()] )\n",
        "  history=model.fit(Dicyslist[k]['data'][0], Dicyslist[k]['data'][1], validation_split=VS,\n",
        "            shuffle=False, epochs=epochs_val, batch_size=Bsize)\n",
        "  history_dict = history.history\n",
        "  return model, history_dict\n",
        "\n",
        "\n",
        "\n",
        "# ###Validation graphs\n",
        "# print('history_dictionary: ', history_dict.keys())\n",
        "# loss_values = history_dict['loss']\n",
        "# val_loss_values = history_dict['val_loss']\n",
        "# epochs = range(1, epochs_val + 1)\n",
        "# #“bo” is for “blue dot.”\n",
        "# plt.plot(epochs, loss_values, 'bo', label='Training loss')\n",
        "# plt.plot(epochs, val_loss_values, 'b', label='Validation loss')\n",
        "# plt.title('Training and validation loss')\n",
        "# #“b” is for “solid blue line.”\n",
        "# plt.xlabel('Epochs')\n",
        "# plt.ylabel('Loss')\n",
        "# plt.legend()\n",
        "# plt.show()\n",
        "# plt.clf()\n",
        "\n",
        "# #plotting accuracies\n",
        "# acc_values=history_dict['accuracy']\n",
        "# val_acc_values=history_dict['val_accuracy']\n",
        "# plt.plot(epochs, acc_values, 'bo', label='Training acc')\n",
        "# plt.plot(epochs, val_acc_values, 'b', label='Validation acc')\n",
        "# plt.title('Training and validation accuracy')\n",
        "# plt.xlabel('Epochs')\n",
        "# plt.ylabel('Accuracy')\n",
        "# plt.legend()\n",
        "# plt.show()"
      ],
      "execution_count": null,
      "outputs": []
    },
    {
      "cell_type": "code",
      "metadata": {
        "id": "DOR13wYPc2ij",
        "colab_type": "code",
        "colab": {
          "base_uri": "https://localhost:8080/",
          "height": 402
        },
        "outputId": "40184f6f-27aa-4cf2-db93-9dd6dd81cee1"
      },
      "source": [
        "modellist=[];\n",
        "historylist=[]\n",
        "for k in range(Nfiles):\n",
        "  model,history=train(Dicyslist,k)\n",
        "  modellist.append(model)\n",
        "  historylist.append(history)"
      ],
      "execution_count": null,
      "outputs": [
        {
          "output_type": "stream",
          "text": [
            "Train on 63000 samples, validate on 7000 samples\n",
            "Epoch 1/3\n",
            "63000/63000 [==============================] - 2s 24us/step - loss: 0.0960 - accuracy: 0.9692 - val_loss: 0.0451 - val_accuracy: 0.9877\n",
            "Epoch 2/3\n",
            "63000/63000 [==============================] - 1s 17us/step - loss: 0.0389 - accuracy: 0.9883 - val_loss: 0.0296 - val_accuracy: 0.9901\n",
            "Epoch 3/3\n",
            "63000/63000 [==============================] - 1s 18us/step - loss: 0.0241 - accuracy: 0.9917 - val_loss: 0.0211 - val_accuracy: 0.9927\n",
            "Train on 63000 samples, validate on 7000 samples\n",
            "Epoch 1/3\n",
            "63000/63000 [==============================] - 1s 12us/step - loss: 0.0748 - accuracy: 0.9839 - val_loss: 0.0247 - val_accuracy: 0.9927\n",
            "Epoch 2/3\n",
            "63000/63000 [==============================] - 1s 10us/step - loss: 0.0252 - accuracy: 0.9926 - val_loss: 0.0238 - val_accuracy: 0.9924\n",
            "Epoch 3/3\n",
            "63000/63000 [==============================] - 1s 10us/step - loss: 0.0243 - accuracy: 0.9927 - val_loss: 0.0240 - val_accuracy: 0.9923\n",
            "Train on 63000 samples, validate on 7000 samples\n",
            "Epoch 1/3\n",
            "63000/63000 [==============================] - 1s 8us/step - loss: 0.2520 - accuracy: 0.9064 - val_loss: 0.0771 - val_accuracy: 0.9776\n",
            "Epoch 2/3\n",
            "63000/63000 [==============================] - 0s 6us/step - loss: 0.0618 - accuracy: 0.9812 - val_loss: 0.0647 - val_accuracy: 0.9794\n",
            "Epoch 3/3\n",
            "63000/63000 [==============================] - 0s 6us/step - loss: 0.0555 - accuracy: 0.9825 - val_loss: 0.0632 - val_accuracy: 0.9803\n"
          ],
          "name": "stdout"
        }
      ]
    },
    {
      "cell_type": "code",
      "metadata": {
        "id": "bJBUbNLBzlKh",
        "colab_type": "code",
        "colab": {
          "base_uri": "https://localhost:8080/",
          "height": 358
        },
        "outputId": "98d0baf4-26df-421b-991e-5501046b6773"
      },
      "source": [
        "###predicciones:\n",
        "\n",
        "p1_list=[];\n",
        "p2_list=[];\n",
        "k=0\n",
        "for k in range (Nfiles):\n",
        "  T_list,x,y=ProbabilityPredictions(modellist[k],Dicyslist[k]['data'][2],Dicyslist[k]['data'][4])\n",
        "  p1_list.append(x)\n",
        "  p2_list.append(y)\n",
        "\n",
        "#plot honey\n",
        "Tc=Dicyslist[0]['Tc']\n",
        "markers=['s','o','x','p']\n",
        "colors=['darkred','green','blue']\n",
        "\n",
        "fig = plt.figure() # crea la figura fig, sin nada, que puede tener muchas subfiguras.\n",
        "ax = fig.add_subplot(111) # creo la subfigura  de 1x1 (cuadrada), numero 1. \n",
        "from google.colab import files\n",
        "file_name=\"dense_Honey_seccion1.pdf\"\n",
        "\n",
        "for k in range(Nfiles):\n",
        "  size='N='+str(Dicyslist[k]['L']**2)\n",
        "  plt.plot(T_list, p1_list[k], label=size, c=colors[k],marker=markers[k])#,mfc='none') #\n",
        "  plt.plot(T_list, p2_list[k], c=colors[k],marker=markers[k])#,mfc='none')#, label='')\n",
        "\n",
        "\n",
        "plt.title('AF-Honeycombe lattice',size = 15)\n",
        "plt.xlabel(r'$T/J$',size = 15)\n",
        "plt.ylabel('Probabilities',size = 15)\n",
        "plt.legend(loc='best',prop={'size': 20})\n",
        "plt.axvline(x=Tc,color='black',linestyle='--')\n",
        "plt.axvline(x=Tc-a,color='gray',linestyle='--')\n",
        "plt.axvline(x=Tc+a,color='gray',linestyle='--')\n",
        "xmaxx=3.5\n",
        "plt.hlines(y=0.5,xmin=-0.1,xmax=0.6*xmaxx,color='black',linestyle='--')\n",
        "\n",
        "ax.set_xlim(-0.1,xmaxx)\n",
        "plt.savefig(file_name)\n",
        "plt.show()\n"
      ],
      "execution_count": null,
      "outputs": [
        {
          "output_type": "stream",
          "text": [
            "number of temperatures:  200\n",
            "number of temperatures:  200\n",
            "number of temperatures:  200\n"
          ],
          "name": "stdout"
        },
        {
          "output_type": "display_data",
          "data": {
            "image/png": "[encoded data removed]",
            "text/plain": [
              "<Figure size 432x288 with 1 Axes>"
            ]
          },
          "metadata": {
            "tags": [],
            "needs_background": "light"
          }
        }
      ]
    },
    {
      "cell_type": "code",
      "metadata": {
        "id": "fbaPHdaezIe1",
        "colab_type": "code",
        "colab": {
          "base_uri": "https://localhost:8080/",
          "height": 17
        },
        "outputId": "d5290ffa-6254-4001-c229-4c8fb92606da"
      },
      "source": [
        "files.download(file_name) \n"
      ],
      "execution_count": null,
      "outputs": [
        {
          "output_type": "display_data",
          "data": {
            "application/javascript": [
              "\n",
              "    async function download(id, filename, size) {\n",
              "      if (!google.colab.kernel.accessAllowed) {\n",
              "        return;\n",
              "      }\n",
              "      const div = document.createElement('div');\n",
              "      const label = document.createElement('label');\n",
              "      label.textContent = `Downloading \"${filename}\": `;\n",
              "      div.appendChild(label);\n",
              "      const progress = document.createElement('progress');\n",
              "      progress.max = size;\n",
              "      div.appendChild(progress);\n",
              "      document.body.appendChild(div);\n",
              "\n",
              "      const buffers = [];\n",
              "      let downloaded = 0;\n",
              "\n",
              "      const channel = await google.colab.kernel.comms.open(id);\n",
              "      // Send a message to notify the kernel that we're ready.\n",
              "      channel.send({})\n",
              "\n",
              "      for await (const message of channel.messages) {\n",
              "        // Send a message to notify the kernel that we're ready.\n",
              "        channel.send({})\n",
              "        if (message.buffers) {\n",
              "          for (const buffer of message.buffers) {\n",
              "            buffers.push(buffer);\n",
              "            downloaded += buffer.byteLength;\n",
              "            progress.value = downloaded;\n",
              "          }\n",
              "        }\n",
              "      }\n",
              "      const blob = new Blob(buffers, {type: 'application/binary'});\n",
              "      const a = document.createElement('a');\n",
              "      a.href = window.URL.createObjectURL(blob);\n",
              "      a.download = filename;\n",
              "      div.appendChild(a);\n",
              "      a.click();\n",
              "      div.remove();\n",
              "    }\n",
              "  "
            ],
            "text/plain": [
              "<IPython.core.display.Javascript object>"
            ]
          },
          "metadata": {
            "tags": []
          }
        },
        {
          "output_type": "display_data",
          "data": {
            "application/javascript": [
              "download(\"download_4aa75b76-e5aa-4479-8d40-0a23ed830ee7\", \"dense_Honey_seccion1.pdf\", 30960)"
            ],
            "text/plain": [
              "<IPython.core.display.Javascript object>"
            ]
          },
          "metadata": {
            "tags": []
          }
        }
      ]
    },
    {
      "cell_type": "code",
      "metadata": {
        "id": "_mW3oOpsXN_f",
        "colab_type": "code",
        "colab": {}
      },
      "source": [
        ""
      ],
      "execution_count": null,
      "outputs": []
    }
  ]
}